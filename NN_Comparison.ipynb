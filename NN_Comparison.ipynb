{
  "nbformat": 4,
  "nbformat_minor": 0,
  "metadata": {
    "colab": {
      "provenance": [],
      "authorship_tag": "ABX9TyMGYbVe2wwqdR0jyM6lrBrU",
      "include_colab_link": true
    },
    "kernelspec": {
      "name": "python3",
      "display_name": "Python 3"
    },
    "language_info": {
      "name": "python"
    }
  },
  "cells": [
    {
      "cell_type": "markdown",
      "metadata": {
        "id": "view-in-github",
        "colab_type": "text"
      },
      "source": [
        "<a href=\"https://colab.research.google.com/github/MANOJ21K/NLP/blob/main/NN_Comparison.ipynb\" target=\"_parent\"><img src=\"https://colab.research.google.com/assets/colab-badge.svg\" alt=\"Open In Colab\"/></a>"
      ]
    },
    {
      "cell_type": "code",
      "execution_count": null,
      "metadata": {
        "id": "BW21wUj90NLX"
      },
      "outputs": [],
      "source": [
        "#for cpu\n",
        "#!pip install --upgrade tensorflow"
      ]
    },
    {
      "cell_type": "code",
      "source": [
        "#for gpu\n",
        "#!pip install tensorflow-gpu==2.8.0"
      ],
      "metadata": {
        "id": "lEnDRry022NZ"
      },
      "execution_count": null,
      "outputs": []
    },
    {
      "cell_type": "code",
      "source": [
        "#shows whether you have GPU in device or not\n",
        "from tensorflow.python.client import device_lib\n",
        "print(device_lib.list_local_devices())"
      ],
      "metadata": {
        "colab": {
          "base_uri": "https://localhost:8080/"
        },
        "id": "F74QCXj-_Oa2",
        "outputId": "3b432a53-1084-4729-f70b-c384df0ee136"
      },
      "execution_count": null,
      "outputs": [
        {
          "output_type": "stream",
          "name": "stdout",
          "text": [
            "[name: \"/device:CPU:0\"\n",
            "device_type: \"CPU\"\n",
            "memory_limit: 268435456\n",
            "locality {\n",
            "}\n",
            "incarnation: 10201142188876614377\n",
            "xla_global_id: -1\n",
            "]\n"
          ]
        }
      ]
    },
    {
      "cell_type": "code",
      "source": [
        "#from keras.utils import np_utils\n",
        "from keras.datasets import boston_housing\n",
        "import seaborn as sns\n",
        "from keras.initializers import RandomNormal"
      ],
      "metadata": {
        "id": "5WSQqp8x_0Zr"
      },
      "execution_count": null,
      "outputs": []
    },
    {
      "cell_type": "code",
      "source": [
        "%matplotlib inline\n",
        "import matplotlib.pyplot as plt\n",
        "import numpy as np\n",
        "import time\n",
        "\n",
        "def plt_dynamic(x, vy, ty, ax, colors=['b']):\n",
        "  ax.plot(x, vy, 'b', label='Validation Loss')\n",
        "  ax.plot(x, ty, 'r', label='Train Loss')\n",
        "  plt.legend()\n",
        "  plt.grid()\n",
        "  fig.canvas.draw()"
      ],
      "metadata": {
        "id": "6okGJayTChUj"
      },
      "execution_count": null,
      "outputs": []
    },
    {
      "cell_type": "code",
      "source": [
        "(X_train, y_train), (X_test, y_test) = boston_housing.load_data()"
      ],
      "metadata": {
        "id": "NvGcTfmFDT23"
      },
      "execution_count": null,
      "outputs": []
    },
    {
      "cell_type": "code",
      "source": [
        "X_train.shape"
      ],
      "metadata": {
        "colab": {
          "base_uri": "https://localhost:8080/"
        },
        "id": "Nl5fPYzjDeWJ",
        "outputId": "6be17250-64c7-4d30-9467-ff56059c3a37"
      },
      "execution_count": null,
      "outputs": [
        {
          "output_type": "execute_result",
          "data": {
            "text/plain": [
              "(404, 13)"
            ]
          },
          "metadata": {},
          "execution_count": 99
        }
      ]
    },
    {
      "cell_type": "code",
      "source": [
        "X_train[0]"
      ],
      "metadata": {
        "colab": {
          "base_uri": "https://localhost:8080/"
        },
        "id": "12IZsHZ6DgFy",
        "outputId": "480f7878-bce9-4461-d7e5-42d104f326d9"
      },
      "execution_count": null,
      "outputs": [
        {
          "output_type": "execute_result",
          "data": {
            "text/plain": [
              "array([  1.23247,   0.     ,   8.14   ,   0.     ,   0.538  ,   6.142  ,\n",
              "        91.7    ,   3.9769 ,   4.     , 307.     ,  21.     , 396.9    ,\n",
              "        18.72   ])"
            ]
          },
          "metadata": {},
          "execution_count": 100
        }
      ]
    },
    {
      "cell_type": "code",
      "source": [
        "y_train[0]"
      ],
      "metadata": {
        "colab": {
          "base_uri": "https://localhost:8080/"
        },
        "id": "oiBXD_lnDjPK",
        "outputId": "95dcc906-49ac-4dd3-e945-a0156b57f8d4"
      },
      "execution_count": null,
      "outputs": [
        {
          "output_type": "execute_result",
          "data": {
            "text/plain": [
              "15.2"
            ]
          },
          "metadata": {},
          "execution_count": 101
        }
      ]
    },
    {
      "cell_type": "code",
      "source": [
        "#step1\n",
        "input_dim = X_train.shape[1]\n",
        "output_dim = 1\n",
        "\n",
        "batch_size = 128\n",
        "nb_epoch = 20"
      ],
      "metadata": {
        "id": "570d24YVF1j5"
      },
      "execution_count": null,
      "outputs": []
    },
    {
      "cell_type": "code",
      "source": [
        "#step2\n",
        "from tensorflow.keras.models import Sequential\n",
        "model = Sequential()"
      ],
      "metadata": {
        "id": "9EMe-RGJFFOw"
      },
      "execution_count": null,
      "outputs": []
    },
    {
      "cell_type": "code",
      "source": [
        "#step3\n",
        "from keras.layers import Activation, Dense\n",
        "model.add(Dense(output_dim, input_dim=input_dim, activation='linear'))"
      ],
      "metadata": {
        "id": "0a2rIA5vFaqy"
      },
      "execution_count": null,
      "outputs": []
    },
    {
      "cell_type": "code",
      "source": [
        "#step4\n",
        "from tensorflow.keras.metrics import MeanAbsoluteError\n",
        "model.compile(optimizer='adam', loss='mean_squared_error', metrics=[MeanAbsoluteError()])"
      ],
      "metadata": {
        "id": "XGnX3_39GacS"
      },
      "execution_count": null,
      "outputs": []
    },
    {
      "cell_type": "code",
      "source": [
        "#step5\n",
        "history = model.fit(X_train, y_train, batch_size=batch_size, epochs=nb_epoch, verbose=1, validation_data=(X_test, y_test))"
      ],
      "metadata": {
        "colab": {
          "base_uri": "https://localhost:8080/"
        },
        "id": "coojIi9lHMYc",
        "outputId": "fb1b17eb-c6aa-4203-f7a8-de239cd77465"
      },
      "execution_count": null,
      "outputs": [
        {
          "output_type": "stream",
          "name": "stdout",
          "text": [
            "Epoch 1/20\n",
            "4/4 [==============================] - 1s 85ms/step - loss: 206816.2188 - mean_absolute_error: 448.2793 - val_loss: 213867.1406 - val_mean_absolute_error: 454.6861\n",
            "Epoch 2/20\n",
            "4/4 [==============================] - 0s 23ms/step - loss: 203472.4375 - mean_absolute_error: 444.6489 - val_loss: 210391.1562 - val_mean_absolute_error: 450.9901\n",
            "Epoch 3/20\n",
            "4/4 [==============================] - 0s 17ms/step - loss: 200155.3438 - mean_absolute_error: 441.0268 - val_loss: 206960.0000 - val_mean_absolute_error: 447.3116\n",
            "Epoch 4/20\n",
            "4/4 [==============================] - 0s 23ms/step - loss: 196896.7969 - mean_absolute_error: 437.4281 - val_loss: 203568.5938 - val_mean_absolute_error: 443.6453\n",
            "Epoch 5/20\n",
            "4/4 [==============================] - 0s 24ms/step - loss: 193657.4219 - mean_absolute_error: 433.8282 - val_loss: 200208.5312 - val_mean_absolute_error: 439.9821\n",
            "Epoch 6/20\n",
            "4/4 [==============================] - 0s 22ms/step - loss: 190468.1562 - mean_absolute_error: 430.2398 - val_loss: 196862.3125 - val_mean_absolute_error: 436.3037\n",
            "Epoch 7/20\n",
            "4/4 [==============================] - 0s 31ms/step - loss: 187276.3906 - mean_absolute_error: 426.6344 - val_loss: 193561.0625 - val_mean_absolute_error: 432.6438\n",
            "Epoch 8/20\n",
            "4/4 [==============================] - 0s 24ms/step - loss: 184125.0312 - mean_absolute_error: 423.0472 - val_loss: 190306.6406 - val_mean_absolute_error: 429.0051\n",
            "Epoch 9/20\n",
            "4/4 [==============================] - 0s 29ms/step - loss: 181024.9375 - mean_absolute_error: 419.4795 - val_loss: 187071.4844 - val_mean_absolute_error: 425.3575\n",
            "Epoch 10/20\n",
            "4/4 [==============================] - 0s 22ms/step - loss: 177963.6875 - mean_absolute_error: 415.9101 - val_loss: 183857.2500 - val_mean_absolute_error: 421.7020\n",
            "Epoch 11/20\n",
            "4/4 [==============================] - 0s 25ms/step - loss: 174872.9844 - mean_absolute_error: 412.3167 - val_loss: 180694.6875 - val_mean_absolute_error: 418.0738\n",
            "Epoch 12/20\n",
            "4/4 [==============================] - 0s 22ms/step - loss: 171878.9688 - mean_absolute_error: 408.7694 - val_loss: 177562.7812 - val_mean_absolute_error: 414.4497\n",
            "Epoch 13/20\n",
            "4/4 [==============================] - 0s 20ms/step - loss: 168904.2969 - mean_absolute_error: 405.2277 - val_loss: 174481.9219 - val_mean_absolute_error: 410.8532\n",
            "Epoch 14/20\n",
            "4/4 [==============================] - 0s 25ms/step - loss: 165971.3594 - mean_absolute_error: 401.7016 - val_loss: 171435.5156 - val_mean_absolute_error: 407.2654\n",
            "Epoch 15/20\n",
            "4/4 [==============================] - 0s 19ms/step - loss: 163074.0312 - mean_absolute_error: 398.1876 - val_loss: 168420.3594 - val_mean_absolute_error: 403.6833\n",
            "Epoch 16/20\n",
            "4/4 [==============================] - 0s 22ms/step - loss: 160204.1562 - mean_absolute_error: 394.6772 - val_loss: 165443.7031 - val_mean_absolute_error: 400.1155\n",
            "Epoch 17/20\n",
            "4/4 [==============================] - 0s 19ms/step - loss: 157382.8125 - mean_absolute_error: 391.1931 - val_loss: 162519.7656 - val_mean_absolute_error: 396.5797\n",
            "Epoch 18/20\n",
            "4/4 [==============================] - 0s 17ms/step - loss: 154601.0938 - mean_absolute_error: 387.7324 - val_loss: 159647.3125 - val_mean_absolute_error: 393.0749\n",
            "Epoch 19/20\n",
            "4/4 [==============================] - 0s 17ms/step - loss: 151871.9375 - mean_absolute_error: 384.3079 - val_loss: 156828.1406 - val_mean_absolute_error: 389.6041\n",
            "Epoch 20/20\n",
            "4/4 [==============================] - 0s 25ms/step - loss: 149201.1875 - mean_absolute_error: 380.9146 - val_loss: 154049.8125 - val_mean_absolute_error: 386.1528\n"
          ]
        }
      ]
    },
    {
      "cell_type": "code",
      "source": [
        "score = model.evaluate(X_test, y_test, verbose=0)\n",
        "print('Test score:', score[0])\n",
        "print('Test MAE:', score[1])\n",
        "\n",
        "fig, ax = plt.subplots(1,1)\n",
        "ax.set_xlabel('epoch'); ax.set_ylabel('Mean Squarred Error')\n",
        "\n",
        "x = list(range(1, nb_epoch+1))\n",
        "\n",
        "vy = history.history['val_loss']\n",
        "ty = history.history['loss']\n",
        "plt_dynamic(x, vy, ty, ax)"
      ],
      "metadata": {
        "colab": {
          "base_uri": "https://localhost:8080/",
          "height": 484
        },
        "id": "T8_8FUy0IFKW",
        "outputId": "084d8bd1-d0e5-4324-8657-91ce316efe09"
      },
      "execution_count": null,
      "outputs": [
        {
          "output_type": "stream",
          "name": "stdout",
          "text": [
            "Test score: 154049.828125\n",
            "Test MAE: 386.15277099609375\n"
          ]
        },
        {
          "output_type": "display_data",
          "data": {
            "text/plain": [
              "<Figure size 640x480 with 1 Axes>"
            ],
            "image/png": "[encoded data removed]"
          },
          "metadata": {}
        }
      ]
    },
    {
      "cell_type": "code",
      "source": [
        "score"
      ],
      "metadata": {
        "colab": {
          "base_uri": "https://localhost:8080/"
        },
        "id": "kNB5Fng1JnSR",
        "outputId": "cb198954-4f23-46e3-b0d0-dc880c0b9582"
      },
      "execution_count": null,
      "outputs": [
        {
          "output_type": "execute_result",
          "data": {
            "text/plain": [
              "[154049.828125, 386.15277099609375]"
            ]
          },
          "metadata": {},
          "execution_count": 108
        }
      ]
    },
    {
      "cell_type": "code",
      "source": [
        "#in the step3 earlier we build a simple NN, now will build the multilayer perceptron\n",
        "\n",
        "#step3\n",
        "model2 = Sequential()\n",
        "model2.add(Dense(512, activation='linear', input_shape=(input_dim, )))\n",
        "model2.add(Dense(128, activation='linear'))\n",
        "model2.add(Dense(output_dim, activation='linear'))\n",
        "\n",
        "model2.summary()"
      ],
      "metadata": {
        "colab": {
          "base_uri": "https://localhost:8080/"
        },
        "id": "wWPm1IeULk8V",
        "outputId": "c0e80d84-0645-458e-a53b-0e3b7a52a97c"
      },
      "execution_count": null,
      "outputs": [
        {
          "output_type": "stream",
          "name": "stdout",
          "text": [
            "Model: \"sequential_2\"\n",
            "_________________________________________________________________\n",
            " Layer (type)                Output Shape              Param #   \n",
            "=================================================================\n",
            " dense_3 (Dense)             (None, 512)               7168      \n",
            "                                                                 \n",
            " dense_4 (Dense)             (None, 128)               65664     \n",
            "                                                                 \n",
            " dense_5 (Dense)             (None, 1)                 129       \n",
            "                                                                 \n",
            "=================================================================\n",
            "Total params: 72961 (285.00 KB)\n",
            "Trainable params: 72961 (285.00 KB)\n",
            "Non-trainable params: 0 (0.00 Byte)\n",
            "_________________________________________________________________\n"
          ]
        }
      ]
    },
    {
      "cell_type": "code",
      "source": [
        "model2.compile(optimizer='adam', loss='mean_squared_error', metrics=[MeanAbsoluteError()])"
      ],
      "metadata": {
        "id": "t_G8A2CMM_dY"
      },
      "execution_count": null,
      "outputs": []
    },
    {
      "cell_type": "code",
      "source": [
        "history = model2.fit(X_train, y_train, batch_size=batch_size, epochs=nb_epoch, verbose=1, validation_data=(X_test, y_test))"
      ],
      "metadata": {
        "colab": {
          "base_uri": "https://localhost:8080/"
        },
        "id": "1aXKqG1NOFg6",
        "outputId": "29c179a2-7dcc-4b70-fda8-076e34341447"
      },
      "execution_count": null,
      "outputs": [
        {
          "output_type": "stream",
          "name": "stdout",
          "text": [
            "Epoch 1/20\n",
            "4/4 [==============================] - 1s 64ms/step - loss: 13158.0264 - mean_absolute_error: 109.3828 - val_loss: 4404.0713 - val_mean_absolute_error: 63.9795\n",
            "Epoch 2/20\n",
            "4/4 [==============================] - 0s 19ms/step - loss: 6048.4429 - mean_absolute_error: 72.9870 - val_loss: 1389.7047 - val_mean_absolute_error: 35.5200\n",
            "Epoch 3/20\n",
            "4/4 [==============================] - 0s 14ms/step - loss: 3237.7617 - mean_absolute_error: 53.6376 - val_loss: 181.0674 - val_mean_absolute_error: 10.5182\n",
            "Epoch 4/20\n",
            "4/4 [==============================] - 0s 15ms/step - loss: 1329.6042 - mean_absolute_error: 29.0817 - val_loss: 837.0201 - val_mean_absolute_error: 25.6773\n",
            "Epoch 5/20\n",
            "4/4 [==============================] - 0s 15ms/step - loss: 581.4220 - mean_absolute_error: 19.8472 - val_loss: 1479.0378 - val_mean_absolute_error: 35.4875\n",
            "Epoch 6/20\n",
            "4/4 [==============================] - 0s 15ms/step - loss: 690.0846 - mean_absolute_error: 20.3632 - val_loss: 929.0559 - val_mean_absolute_error: 27.7770\n",
            "Epoch 7/20\n",
            "4/4 [==============================] - 0s 14ms/step - loss: 630.0975 - mean_absolute_error: 21.9888 - val_loss: 365.6007 - val_mean_absolute_error: 17.1859\n",
            "Epoch 8/20\n",
            "4/4 [==============================] - 0s 25ms/step - loss: 533.1401 - mean_absolute_error: 21.2194 - val_loss: 94.2005 - val_mean_absolute_error: 7.2940\n",
            "Epoch 9/20\n",
            "4/4 [==============================] - 0s 15ms/step - loss: 290.7610 - mean_absolute_error: 13.8814 - val_loss: 178.0067 - val_mean_absolute_error: 11.5428\n",
            "Epoch 10/20\n",
            "4/4 [==============================] - 0s 20ms/step - loss: 150.5684 - mean_absolute_error: 9.7547 - val_loss: 289.4016 - val_mean_absolute_error: 14.6680\n",
            "Epoch 11/20\n",
            "4/4 [==============================] - 0s 14ms/step - loss: 169.0782 - mean_absolute_error: 9.9232 - val_loss: 229.8560 - val_mean_absolute_error: 12.8500\n",
            "Epoch 12/20\n",
            "4/4 [==============================] - 0s 19ms/step - loss: 145.9103 - mean_absolute_error: 9.7186 - val_loss: 168.6155 - val_mean_absolute_error: 10.5664\n",
            "Epoch 13/20\n",
            "4/4 [==============================] - 0s 20ms/step - loss: 129.9303 - mean_absolute_error: 8.6407 - val_loss: 123.8923 - val_mean_absolute_error: 9.2414\n",
            "Epoch 14/20\n",
            "4/4 [==============================] - 0s 14ms/step - loss: 120.3643 - mean_absolute_error: 9.4837 - val_loss: 88.5987 - val_mean_absolute_error: 6.9800\n",
            "Epoch 15/20\n",
            "4/4 [==============================] - 0s 17ms/step - loss: 108.4441 - mean_absolute_error: 7.4447 - val_loss: 85.5010 - val_mean_absolute_error: 7.0503\n",
            "Epoch 16/20\n",
            "4/4 [==============================] - 0s 14ms/step - loss: 98.3365 - mean_absolute_error: 8.0098 - val_loss: 83.3728 - val_mean_absolute_error: 6.6728\n",
            "Epoch 17/20\n",
            "4/4 [==============================] - 0s 21ms/step - loss: 102.7348 - mean_absolute_error: 7.3302 - val_loss: 72.6768 - val_mean_absolute_error: 6.3447\n",
            "Epoch 18/20\n",
            "4/4 [==============================] - 0s 20ms/step - loss: 79.2070 - mean_absolute_error: 7.1619 - val_loss: 78.9741 - val_mean_absolute_error: 6.9214\n",
            "Epoch 19/20\n",
            "4/4 [==============================] - 0s 21ms/step - loss: 66.2683 - mean_absolute_error: 6.1162 - val_loss: 90.4931 - val_mean_absolute_error: 7.0511\n",
            "Epoch 20/20\n",
            "4/4 [==============================] - 0s 14ms/step - loss: 67.5462 - mean_absolute_error: 5.8491 - val_loss: 96.2604 - val_mean_absolute_error: 7.8920\n"
          ]
        }
      ]
    },
    {
      "cell_type": "code",
      "source": [
        "score = model2.evaluate(X_test, y_test, verbose=0)\n",
        "print('Test score:', score[0])\n",
        "print('Test MAE:', score[1])\n",
        "\n",
        "fig, ax = plt.subplots(1,1)\n",
        "ax.set_xlabel('epoch'); ax.set_ylabel('Mean Squarred Error')\n",
        "\n",
        "x = list(range(1, nb_epoch+1))\n",
        "\n",
        "vy = history.history['val_loss']\n",
        "ty = history.history['loss']\n",
        "plt_dynamic(x, vy, ty, ax)"
      ],
      "metadata": {
        "colab": {
          "base_uri": "https://localhost:8080/",
          "height": 484
        },
        "id": "q3mFcP3lOeIh",
        "outputId": "565641c5-fe10-42c8-d7c5-d1e81861ebc4"
      },
      "execution_count": null,
      "outputs": [
        {
          "output_type": "stream",
          "name": "stdout",
          "text": [
            "Test score: 96.26036834716797\n",
            "Test MAE: 7.891966342926025\n"
          ]
        },
        {
          "output_type": "display_data",
          "data": {
            "text/plain": [
              "<Figure size 640x480 with 1 Axes>"
            ],
            "image/png": "[encoded data removed]"
          },
          "metadata": {}
        }
      ]
    },
    {
      "cell_type": "markdown",
      "source": [
        "**Using RNN**"
      ],
      "metadata": {
        "id": "oYiAf9Xq483L"
      }
    },
    {
      "cell_type": "code",
      "source": [
        "X_test.shape"
      ],
      "metadata": {
        "colab": {
          "base_uri": "https://localhost:8080/"
        },
        "id": "omU63h8p-Gcu",
        "outputId": "39600360-a472-42d8-974c-76bf7c685b5e"
      },
      "execution_count": null,
      "outputs": [
        {
          "output_type": "execute_result",
          "data": {
            "text/plain": [
              "(102, 13)"
            ]
          },
          "metadata": {},
          "execution_count": 113
        }
      ]
    },
    {
      "cell_type": "code",
      "source": [
        "from keras.models import Sequential\n",
        "from keras.layers import SimpleRNN, Dense\n",
        "\n",
        "model3 = Sequential()\n",
        "model3.add(SimpleRNN(512, input_shape=(13, 1), return_sequences=False))\n",
        "model3.add(Dense(128, activation='linear'))\n",
        "model3.add(Dense(output_dim, activation='linear'))\n",
        "\n",
        "model3.compile(loss='mean_squared_error', optimizer='adam', metrics=['mean_absolute_error'])\n",
        "model3.summary()\n",
        "\n",
        "history = model3.fit(X_train, y_train, batch_size=batch_size, epochs=nb_epoch, verbose=1, validation_data=(X_test, y_test))\n",
        "\n",
        "score = model3.evaluate(X_test, y_test, verbose=0)\n",
        "print('Test score:', score[0])\n",
        "print('Test MAE:', score[1])\n",
        "\n",
        "fig, ax = plt.subplots(1,1)\n",
        "ax.set_xlabel('epoch'); ax.set_ylabel('Mean Squarred Error')\n",
        "\n",
        "x = list(range(1, nb_epoch+1))\n",
        "\n",
        "vy = history.history['val_loss']\n",
        "ty = history.history['loss']\n",
        "plt_dynamic(x, vy, ty, ax)"
      ],
      "metadata": {
        "id": "VCrHIkR27bMc"
      },
      "execution_count": null,
      "outputs": []
    },
    {
      "cell_type": "code",
      "source": [],
      "metadata": {
        "colab": {
          "base_uri": "https://localhost:8080/"
        },
        "id": "0Zm_X18M6Yty",
        "outputId": "8193c4e4-fff7-4156-8d71-a20030453af6"
      },
      "execution_count": null,
      "outputs": [
        {
          "output_type": "stream",
          "name": "stdout",
          "text": [
            "Epoch 1/20\n",
            "4/4 [==============================] - 2s 155ms/step - loss: 270.7462 - mean_absolute_error: 12.8764 - val_loss: 106.5381 - val_mean_absolute_error: 9.0278\n",
            "Epoch 2/20\n",
            "4/4 [==============================] - 0s 64ms/step - loss: 98.7671 - mean_absolute_error: 8.6953 - val_loss: 66.0189 - val_mean_absolute_error: 5.6720\n",
            "Epoch 3/20\n",
            "4/4 [==============================] - 0s 83ms/step - loss: 72.0051 - mean_absolute_error: 5.6031 - val_loss: 72.7466 - val_mean_absolute_error: 5.8063\n",
            "Epoch 4/20\n",
            "4/4 [==============================] - 0s 70ms/step - loss: 63.3678 - mean_absolute_error: 5.0923 - val_loss: 53.2411 - val_mean_absolute_error: 5.5806\n",
            "Epoch 5/20\n",
            "4/4 [==============================] - 0s 66ms/step - loss: 52.7349 - mean_absolute_error: 5.5542 - val_loss: 44.7966 - val_mean_absolute_error: 4.7505\n",
            "Epoch 6/20\n",
            "4/4 [==============================] - 0s 71ms/step - loss: 43.9199 - mean_absolute_error: 4.5128 - val_loss: 40.1088 - val_mean_absolute_error: 4.2858\n",
            "Epoch 7/20\n",
            "4/4 [==============================] - 0s 69ms/step - loss: 37.8950 - mean_absolute_error: 4.2921 - val_loss: 35.2015 - val_mean_absolute_error: 4.3116\n",
            "Epoch 8/20\n",
            "4/4 [==============================] - 0s 65ms/step - loss: 34.8050 - mean_absolute_error: 4.2666 - val_loss: 37.8724 - val_mean_absolute_error: 4.2071\n",
            "Epoch 9/20\n",
            "4/4 [==============================] - 0s 66ms/step - loss: 34.3867 - mean_absolute_error: 4.0530 - val_loss: 32.2778 - val_mean_absolute_error: 4.1784\n",
            "Epoch 10/20\n",
            "4/4 [==============================] - 0s 70ms/step - loss: 31.9910 - mean_absolute_error: 4.0898 - val_loss: 32.8113 - val_mean_absolute_error: 4.0517\n",
            "Epoch 11/20\n",
            "4/4 [==============================] - 0s 75ms/step - loss: 31.6647 - mean_absolute_error: 4.0462 - val_loss: 31.3243 - val_mean_absolute_error: 4.0667\n",
            "Epoch 12/20\n",
            "4/4 [==============================] - 0s 68ms/step - loss: 30.1227 - mean_absolute_error: 3.9147 - val_loss: 31.7954 - val_mean_absolute_error: 4.0709\n",
            "Epoch 13/20\n",
            "4/4 [==============================] - 0s 66ms/step - loss: 29.8237 - mean_absolute_error: 3.9079 - val_loss: 34.4952 - val_mean_absolute_error: 4.1673\n",
            "Epoch 14/20\n",
            "4/4 [==============================] - 0s 67ms/step - loss: 31.4615 - mean_absolute_error: 3.7882 - val_loss: 34.3912 - val_mean_absolute_error: 4.5730\n",
            "Epoch 15/20\n",
            "4/4 [==============================] - 0s 71ms/step - loss: 31.6343 - mean_absolute_error: 4.2035 - val_loss: 36.3201 - val_mean_absolute_error: 4.2768\n",
            "Epoch 16/20\n",
            "4/4 [==============================] - 0s 67ms/step - loss: 33.4769 - mean_absolute_error: 4.2138 - val_loss: 33.0125 - val_mean_absolute_error: 4.1566\n",
            "Epoch 17/20\n",
            "4/4 [==============================] - 0s 67ms/step - loss: 33.3480 - mean_absolute_error: 3.8739 - val_loss: 31.4855 - val_mean_absolute_error: 4.2139\n",
            "Epoch 18/20\n",
            "4/4 [==============================] - 0s 112ms/step - loss: 33.4166 - mean_absolute_error: 4.4797 - val_loss: 38.7598 - val_mean_absolute_error: 4.4223\n",
            "Epoch 19/20\n",
            "4/4 [==============================] - 0s 104ms/step - loss: 34.2100 - mean_absolute_error: 3.9973 - val_loss: 35.2916 - val_mean_absolute_error: 4.6372\n",
            "Epoch 20/20\n",
            "4/4 [==============================] - 0s 117ms/step - loss: 33.4557 - mean_absolute_error: 4.4686 - val_loss: 38.2107 - val_mean_absolute_error: 4.4117\n"
          ]
        }
      ]
    },
    {
      "cell_type": "markdown",
      "source": [
        "**Using LSTM**"
      ],
      "metadata": {
        "id": "DVFCT4P-GWYc"
      }
    },
    {
      "cell_type": "code",
      "source": [
        "from keras.models import Sequential\n",
        "from keras.layers import SimpleRNN,LSTM, Dense\n",
        "\n",
        "model4 = Sequential()\n",
        "model4.add(LSTM(512, input_shape=(13, 1), return_sequences=False))\n",
        "model4.add(Dense(128, activation='linear'))\n",
        "model4.add(Dense(output_dim, activation='linear'))\n",
        "\n",
        "model4.compile(loss='mean_squared_error', optimizer='adam', metrics=['mean_absolute_error'])\n",
        "model4.summary()\n",
        "\n",
        "history = model4.fit(X_train, y_train, batch_size=batch_size, epochs=nb_epoch, verbose=1, validation_data=(X_test, y_test))\n",
        "\n",
        "score = model4.evaluate(X_test, y_test, verbose=0)\n",
        "print('Test score:', score[0])\n",
        "print('Test MAE:', score[1])\n",
        "\n",
        "fig, ax = plt.subplots(1,1)\n",
        "ax.set_xlabel('epoch'); ax.set_ylabel('Mean Squarred Error')\n",
        "\n",
        "x = list(range(1, nb_epoch+1))\n",
        "\n",
        "vy = history.history['val_loss']\n",
        "ty = history.history['loss']\n",
        "plt_dynamic(x, vy, ty, ax)"
      ],
      "metadata": {
        "colab": {
          "base_uri": "https://localhost:8080/",
          "height": 1000
        },
        "id": "tS53dpPsF70u",
        "outputId": "9a8f397c-b543-4655-e34a-adbd21996d0d"
      },
      "execution_count": null,
      "outputs": [
        {
          "output_type": "stream",
          "name": "stdout",
          "text": [
            "Model: \"sequential_5\"\n",
            "_________________________________________________________________\n",
            " Layer (type)                Output Shape              Param #   \n",
            "=================================================================\n",
            " lstm (LSTM)                 (None, 512)               1052672   \n",
            "                                                                 \n",
            " dense_8 (Dense)             (None, 128)               65664     \n",
            "                                                                 \n",
            " dense_9 (Dense)             (None, 1)                 129       \n",
            "                                                                 \n",
            "=================================================================\n",
            "Total params: 1118465 (4.27 MB)\n",
            "Trainable params: 1118465 (4.27 MB)\n",
            "Non-trainable params: 0 (0.00 Byte)\n",
            "_________________________________________________________________\n",
            "Epoch 1/20\n",
            "4/4 [==============================] - 5s 723ms/step - loss: 390.9461 - mean_absolute_error: 17.1175 - val_loss: 111.2041 - val_mean_absolute_error: 7.8649\n",
            "Epoch 2/20\n",
            "4/4 [==============================] - 2s 415ms/step - loss: 108.5420 - mean_absolute_error: 7.9483 - val_loss: 120.4710 - val_mean_absolute_error: 9.2423\n",
            "Epoch 3/20\n",
            "4/4 [==============================] - 2s 424ms/step - loss: 113.1243 - mean_absolute_error: 9.1458 - val_loss: 77.3624 - val_mean_absolute_error: 6.3334\n",
            "Epoch 4/20\n",
            "4/4 [==============================] - 2s 412ms/step - loss: 79.3751 - mean_absolute_error: 6.1916 - val_loss: 92.7749 - val_mean_absolute_error: 6.9210\n",
            "Epoch 5/20\n",
            "4/4 [==============================] - 1s 258ms/step - loss: 85.7535 - mean_absolute_error: 6.1427 - val_loss: 76.1183 - val_mean_absolute_error: 6.0173\n",
            "Epoch 6/20\n",
            "4/4 [==============================] - 1s 260ms/step - loss: 70.5373 - mean_absolute_error: 5.7426 - val_loss: 66.0821 - val_mean_absolute_error: 6.0993\n",
            "Epoch 7/20\n",
            "4/4 [==============================] - 1s 282ms/step - loss: 66.6143 - mean_absolute_error: 6.3109 - val_loss: 62.2331 - val_mean_absolute_error: 5.9436\n",
            "Epoch 8/20\n",
            "4/4 [==============================] - 1s 264ms/step - loss: 61.2962 - mean_absolute_error: 5.6745 - val_loss: 60.8748 - val_mean_absolute_error: 5.3276\n",
            "Epoch 9/20\n",
            "4/4 [==============================] - 1s 259ms/step - loss: 59.0632 - mean_absolute_error: 4.9980 - val_loss: 55.5596 - val_mean_absolute_error: 5.1240\n",
            "Epoch 10/20\n",
            "4/4 [==============================] - 1s 262ms/step - loss: 53.0668 - mean_absolute_error: 5.0582 - val_loss: 50.2618 - val_mean_absolute_error: 5.3152\n",
            "Epoch 11/20\n",
            "4/4 [==============================] - 1s 257ms/step - loss: 49.5455 - mean_absolute_error: 5.2185 - val_loss: 46.9589 - val_mean_absolute_error: 4.8233\n",
            "Epoch 12/20\n",
            "4/4 [==============================] - 1s 245ms/step - loss: 45.6189 - mean_absolute_error: 4.6238 - val_loss: 43.4192 - val_mean_absolute_error: 4.5946\n",
            "Epoch 13/20\n",
            "4/4 [==============================] - 1s 270ms/step - loss: 41.8500 - mean_absolute_error: 4.5287 - val_loss: 39.7051 - val_mean_absolute_error: 4.6335\n",
            "Epoch 14/20\n",
            "4/4 [==============================] - 2s 399ms/step - loss: 39.0299 - mean_absolute_error: 4.5768 - val_loss: 38.9540 - val_mean_absolute_error: 4.2195\n",
            "Epoch 15/20\n",
            "4/4 [==============================] - 2s 421ms/step - loss: 38.5910 - mean_absolute_error: 4.0979 - val_loss: 35.4521 - val_mean_absolute_error: 4.4233\n",
            "Epoch 16/20\n",
            "4/4 [==============================] - 2s 410ms/step - loss: 38.2133 - mean_absolute_error: 4.8931 - val_loss: 33.7884 - val_mean_absolute_error: 4.0735\n",
            "Epoch 17/20\n",
            "4/4 [==============================] - 2s 422ms/step - loss: 36.7597 - mean_absolute_error: 4.0183 - val_loss: 39.1723 - val_mean_absolute_error: 4.2502\n",
            "Epoch 18/20\n",
            "4/4 [==============================] - 2s 417ms/step - loss: 34.8757 - mean_absolute_error: 4.1421 - val_loss: 34.5679 - val_mean_absolute_error: 4.4886\n",
            "Epoch 19/20\n",
            "4/4 [==============================] - 1s 281ms/step - loss: 34.0102 - mean_absolute_error: 4.4585 - val_loss: 34.2230 - val_mean_absolute_error: 4.0402\n",
            "Epoch 20/20\n",
            "4/4 [==============================] - 1s 284ms/step - loss: 32.7794 - mean_absolute_error: 3.8658 - val_loss: 33.2530 - val_mean_absolute_error: 4.0066\n",
            "Test score: 33.25298309326172\n",
            "Test MAE: 4.006643772125244\n"
          ]
        },
        {
          "output_type": "display_data",
          "data": {
            "text/plain": [
              "<Figure size 640x480 with 1 Axes>"
            ],
            "image/png": "[encoded data removed]"
          },
          "metadata": {}
        }
      ]
    },
    {
      "cell_type": "code",
      "source": [],
      "metadata": {
        "id": "uyGPApM2GbzM"
      },
      "execution_count": null,
      "outputs": []
    }
  ]
}